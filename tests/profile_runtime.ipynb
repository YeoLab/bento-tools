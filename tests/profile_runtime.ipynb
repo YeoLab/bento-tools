{
 "cells": [
  {
   "cell_type": "code",
   "execution_count": 1,
   "metadata": {},
   "outputs": [],
   "source": [
    "import bento\n",
    "from hmr import Reloader\n",
    "bento = Reloader(bento)\n",
    "\n",
    "%load_ext line_profiler\n",
    "\n",
    "data = bento.datasets.load_dataset('seqfish')"
   ]
  },
  {
   "cell_type": "code",
   "execution_count": 2,
   "metadata": {},
   "outputs": [],
   "source": [
    "pts = data.uns['points'].query('cell == \"5-0\"')"
   ]
  },
  {
   "cell_type": "code",
   "execution_count": 3,
   "metadata": {},
   "outputs": [
    {
     "name": "stdout",
     "output_type": "stream",
     "text": [
      "Timer unit: 1e-06 s\n",
      "\n",
      "Total time: 0.155804 s\n",
      "File: /workspaces/bento-tools/bento/tools/_colocation.py\n",
      "Function: count_neighbors at line 13\n",
      "\n",
      "Line #      Hits         Time  Per Hit   % Time  Line Contents\n",
      "==============================================================\n",
      "    13                                           def count_neighbors(points_df, n_neighbors, agg=True):\n",
      "    14                                               \"\"\"Build nearest neighbor index for points.\n",
      "    15                                           \n",
      "    16                                               Parameters\n",
      "    17                                               ----------\n",
      "    18                                               points_df : pd.DataFrame\n",
      "    19                                                   Points dataframe. Must have columns \"x\", \"y\", and \"gene\".\n",
      "    20                                               n_neighbors : int\n",
      "    21                                                   Number of nearest neighbors to consider.\n",
      "    22                                               agg : bool\n",
      "    23                                                   Whether to aggregate nearest neighbors at the gene-level. Default True.\n",
      "    24                                               Returns\n",
      "    25                                               -------\n",
      "    26                                               list or dict of dicts\n",
      "    27                                                   If agg='point', returns a list of dicts, one for each point. Dict keys are gene names, values are counts.\n",
      "    28                                                   If agg='gene', returns a DataFrame with columns \"gene\", \"neighbor\", and \"count\".\n",
      "    29                                               \"\"\"\n",
      "    30                                               # Build knn index\n",
      "    31         1          2.0      2.0      0.0      neighbor_index = (\n",
      "    32         3      56025.0  18675.0     36.0          NearestNeighbors(n_neighbors=n_neighbors)\n",
      "    33         1       1125.0   1125.0      0.7          .fit(points_df[[\"x\", \"y\"]].values)\n",
      "    34         1       1162.0   1162.0      0.7          .kneighbors(points_df[[\"x\", \"y\"]].values, return_distance=False)\n",
      "    35                                               )\n",
      "    36         1        211.0    211.0      0.1      point_labels = points_df[\"gene\"].values\n",
      "    37                                           \n",
      "    38                                               # Get gene-level neighbor counts for each gene\n",
      "    39         1          1.0      1.0      0.0      if agg is True:\n",
      "    40         1       2983.0   2983.0      1.9          source_genes, source_indices = np.unique(point_labels, return_index=True)\n",
      "    41                                           \n",
      "    42         1          1.0      1.0      0.0          gene_index = []\n",
      "    43                                           \n",
      "    44       345        408.0      1.2      0.3          for g, gi in zip(source_genes, source_indices):\n",
      "    45                                                       # First get all points for this gene\n",
      "    46       344       8282.0     24.1      5.3              g_neighbors = np.unique(neighbor_index[gi].flatten())\n",
      "    47                                                         # get unique neighbor points\n",
      "    48       344      22624.0     65.8     14.5              g_neighbors = point_labels[g_neighbors]  # Get point gene names\n",
      "    49       688      44001.0     64.0     28.2              neighbor_names, neighbor_counts = np.unique(\n",
      "    50       344        302.0      0.9      0.2                  g_neighbors, return_counts=True\n",
      "    51                                                       )  # aggregate neighbor gene counts\n",
      "    52                                           \n",
      "    53      6845       7962.0      1.2      5.1              for neighbor, count in zip(neighbor_names, neighbor_counts):\n",
      "    54      6501       7135.0      1.1      4.6                  gene_index.append([g, neighbor, count])\n",
      "    55                                           \n",
      "    56         1       3579.0   3579.0      2.3          gene_index = pd.DataFrame(gene_index, columns=[\"gene\", \"neighbor\", \"count\"])\n",
      "    57         1          1.0      1.0      0.0          return gene_index\n",
      "    58                                               # Get gene-level neighbor counts for each point\n",
      "    59                                               else:\n",
      "    60                                                   neighborhood_shape = neighbor_index.shape\n",
      "    61                                                   gene_labels = point_labels[neighbor_index.flatten()].reshape(neighborhood_shape)\n",
      "    62                                                   point_index = []\n",
      "    63                                                   for row in gene_labels[:, 1:]:\n",
      "    64                                                       point_index.append(dict(zip(np.unique(row, return_counts=True))))\n",
      "    65                                                   return point_index"
     ]
    }
   ],
   "source": [
    "%lprun -f bento.tools._colocation.count_neighbors bento.tools._colocation._cell_clq(pts,20,20)"
   ]
  },
  {
   "cell_type": "code",
   "execution_count": 4,
   "metadata": {},
   "outputs": [
    {
     "name": "stdout",
     "output_type": "stream",
     "text": [
      "[########################################] | 100% Completed | 27.28 ss\n"
     ]
    }
   ],
   "source": [
    "bento.tl.coloc_quotient(data)"
   ]
  },
  {
   "cell_type": "code",
   "execution_count": 5,
   "metadata": {},
   "outputs": [
    {
     "data": {
      "text/html": [
       "<div>\n",
       "<style scoped>\n",
       "    .dataframe tbody tr th:only-of-type {\n",
       "        vertical-align: middle;\n",
       "    }\n",
       "\n",
       "    .dataframe tbody tr th {\n",
       "        vertical-align: top;\n",
       "    }\n",
       "\n",
       "    .dataframe thead th {\n",
       "        text-align: right;\n",
       "    }\n",
       "</style>\n",
       "<table border=\"1\" class=\"dataframe\">\n",
       "  <thead>\n",
       "    <tr style=\"text-align: right;\">\n",
       "      <th></th>\n",
       "      <th>cell</th>\n",
       "      <th>gene</th>\n",
       "      <th>neighbor</th>\n",
       "      <th>clq</th>\n",
       "    </tr>\n",
       "  </thead>\n",
       "  <tbody>\n",
       "    <tr>\n",
       "      <th>0</th>\n",
       "      <td>0-0</td>\n",
       "      <td>Aars</td>\n",
       "      <td>Aars</td>\n",
       "      <td>15.040289</td>\n",
       "    </tr>\n",
       "    <tr>\n",
       "      <th>1</th>\n",
       "      <td>0-0</td>\n",
       "      <td>Aars</td>\n",
       "      <td>Acly</td>\n",
       "      <td>5.805024</td>\n",
       "    </tr>\n",
       "    <tr>\n",
       "      <th>2</th>\n",
       "      <td>0-0</td>\n",
       "      <td>Aars</td>\n",
       "      <td>Cap1</td>\n",
       "      <td>4.938602</td>\n",
       "    </tr>\n",
       "    <tr>\n",
       "      <th>3</th>\n",
       "      <td>0-0</td>\n",
       "      <td>Aars</td>\n",
       "      <td>Ccnd1</td>\n",
       "      <td>10.340199</td>\n",
       "    </tr>\n",
       "    <tr>\n",
       "      <th>4</th>\n",
       "      <td>0-0</td>\n",
       "      <td>Aars</td>\n",
       "      <td>Dctn1</td>\n",
       "      <td>8.707536</td>\n",
       "    </tr>\n",
       "    <tr>\n",
       "      <th>...</th>\n",
       "      <td>...</td>\n",
       "      <td>...</td>\n",
       "      <td>...</td>\n",
       "      <td>...</td>\n",
       "    </tr>\n",
       "    <tr>\n",
       "      <th>860190</th>\n",
       "      <td>9-9</td>\n",
       "      <td>Zyx</td>\n",
       "      <td>Prkaca</td>\n",
       "      <td>10.417874</td>\n",
       "    </tr>\n",
       "    <tr>\n",
       "      <th>860191</th>\n",
       "      <td>9-9</td>\n",
       "      <td>Zyx</td>\n",
       "      <td>Psat1</td>\n",
       "      <td>4.630166</td>\n",
       "    </tr>\n",
       "    <tr>\n",
       "      <th>860192</th>\n",
       "      <td>9-9</td>\n",
       "      <td>Zyx</td>\n",
       "      <td>Sox9</td>\n",
       "      <td>9.147402</td>\n",
       "    </tr>\n",
       "    <tr>\n",
       "      <th>860193</th>\n",
       "      <td>9-9</td>\n",
       "      <td>Zyx</td>\n",
       "      <td>Tagln</td>\n",
       "      <td>11.629255</td>\n",
       "    </tr>\n",
       "    <tr>\n",
       "      <th>860194</th>\n",
       "      <td>9-9</td>\n",
       "      <td>Zyx</td>\n",
       "      <td>Zyx</td>\n",
       "      <td>16.306238</td>\n",
       "    </tr>\n",
       "  </tbody>\n",
       "</table>\n",
       "<p>860195 rows × 4 columns</p>\n",
       "</div>"
      ],
      "text/plain": [
       "       cell  gene neighbor        clq\n",
       "0       0-0  Aars     Aars  15.040289\n",
       "1       0-0  Aars     Acly   5.805024\n",
       "2       0-0  Aars     Cap1   4.938602\n",
       "3       0-0  Aars    Ccnd1  10.340199\n",
       "4       0-0  Aars    Dctn1   8.707536\n",
       "...     ...   ...      ...        ...\n",
       "860190  9-9   Zyx   Prkaca  10.417874\n",
       "860191  9-9   Zyx    Psat1   4.630166\n",
       "860192  9-9   Zyx     Sox9   9.147402\n",
       "860193  9-9   Zyx    Tagln  11.629255\n",
       "860194  9-9   Zyx      Zyx  16.306238\n",
       "\n",
       "[860195 rows x 4 columns]"
      ]
     },
     "execution_count": 5,
     "metadata": {},
     "output_type": "execute_result"
    }
   ],
   "source": [
    "data.uns['clq']"
   ]
  }
 ],
 "metadata": {
  "kernelspec": {
   "display_name": "Python 3.8.13 64-bit",
   "language": "python",
   "name": "python3"
  },
  "language_info": {
   "codemirror_mode": {
    "name": "ipython",
    "version": 3
   },
   "file_extension": ".py",
   "mimetype": "text/x-python",
   "name": "python",
   "nbconvert_exporter": "python",
   "pygments_lexer": "ipython3",
   "version": "3.8.13"
  },
  "orig_nbformat": 4,
  "vscode": {
   "interpreter": {
    "hash": "949777d72b0d2535278d3dc13498b2535136f6dfe0678499012e853ee9abcab1"
   }
  }
 },
 "nbformat": 4,
 "nbformat_minor": 2
}
