{
 "cells": [
  {
   "cell_type": "markdown",
   "metadata": {},
   "source": [
    "# Localization Features\n",
    "1. Ripey's L-function\n",
    "2. enrichment ratio of RNA cou"
   ]
  },
  {
   "cell_type": "code",
   "execution_count": 1,
   "metadata": {
    "scrolled": true
   },
   "outputs": [
    {
     "name": "stdout",
     "output_type": "stream",
     "text": [
      "INFO: Pandarallel will run on 4 workers.\n",
      "INFO: Pandarallel will use Memory file system to transfer data between the main process and workers.\n"
     ]
    }
   ],
   "source": [
    "%load_ext autoreload\n",
    "%autoreload 2\n",
    "import bento\n",
    "import numpy as np\n",
    "import pandas as pd\n",
    "import geopandas\n",
    "import matplotlib.pyplot as plt\n",
    "from ipywidgets import interact, interact_manual\n",
    "from IPython.display import display"
   ]
  },
  {
   "cell_type": "markdown",
   "metadata": {},
   "source": [
    "Load data"
   ]
  },
  {
   "cell_type": "code",
   "execution_count": 2,
   "metadata": {},
   "outputs": [],
   "source": [
    "data = bento.io.read_geodata(spots_path='examples/spots.shp',\n",
    "                             cells_path='examples/cell_membrane.shp',\n",
    "                             nucleus_path='examples/nucleus.shp')"
   ]
  },
  {
   "cell_type": "code",
   "execution_count": 3,
   "metadata": {},
   "outputs": [
    {
     "name": "stderr",
     "output_type": "stream",
     "text": [
      "Preparing features...: 100%|██████████| 5/5 [00:26<00:00,  5.24s/it]5s/it]        \n"
     ]
    }
   ],
   "source": [
    "data = bento.pp.prepare_features(data)"
   ]
  },
  {
   "cell_type": "code",
   "execution_count": 4,
   "metadata": {},
   "outputs": [
    {
     "data": {
      "text/html": [
       "\n",
       "<div id=\"altair-viz-60048e0686b74c219aaa9c06e94ed250\"></div>\n",
       "<script type=\"text/javascript\">\n",
       "  (function(spec, embedOpt){\n",
       "    let outputDiv = document.currentScript.previousElementSibling;\n",
       "    if (outputDiv.id !== \"altair-viz-60048e0686b74c219aaa9c06e94ed250\") {\n",
       "      outputDiv = document.getElementById(\"altair-viz-60048e0686b74c219aaa9c06e94ed250\");\n",
       "    }\n",
       "    const paths = {\n",
       "      \"vega\": \"https://cdn.jsdelivr.net/npm//vega@5?noext\",\n",
       "      \"vega-lib\": \"https://cdn.jsdelivr.net/npm//vega-lib?noext\",\n",
       "      \"vega-lite\": \"https://cdn.jsdelivr.net/npm//vega-lite@4.8.1?noext\",\n",
       "      \"vega-embed\": \"https://cdn.jsdelivr.net/npm//vega-embed@6?noext\",\n",
       "    };\n",
       "\n",
       "    function loadScript(lib) {\n",
       "      return new Promise(function(resolve, reject) {\n",
       "        var s = document.createElement('script');\n",
       "        s.src = paths[lib];\n",
       "        s.async = true;\n",
       "        s.onload = () => resolve(paths[lib]);\n",
       "        s.onerror = () => reject(`Error loading script: ${paths[lib]}`);\n",
       "        document.getElementsByTagName(\"head\")[0].appendChild(s);\n",
       "      });\n",
       "    }\n",
       "\n",
       "    function showError(err) {\n",
       "      outputDiv.innerHTML = `<div class=\"error\" style=\"color:red;\">${err}</div>`;\n",
       "      throw err;\n",
       "    }\n",
       "\n",
       "    function displayChart(vegaEmbed) {\n",
       "      vegaEmbed(outputDiv, spec, embedOpt)\n",
       "        .catch(err => showError(`Javascript Error: ${err.message}<br>This usually means there's a typo in your chart specification. See the javascript console for the full traceback.`));\n",
       "    }\n",
       "\n",
       "    if(typeof define === \"function\" && define.amd) {\n",
       "      requirejs.config({paths});\n",
       "      require([\"vega-embed\"], displayChart, err => showError(`Error loading script: ${err.message}`));\n",
       "    } else if (typeof vegaEmbed === \"function\") {\n",
       "      displayChart(vegaEmbed);\n",
       "    } else {\n",
       "      loadScript(\"vega\")\n",
       "        .then(() => loadScript(\"vega-lite\"))\n",
       "        .then(() => loadScript(\"vega-embed\"))\n",
       "        .catch(showError)\n",
       "        .then(() => displayChart(vegaEmbed));\n",
       "    }\n",
       "  })({\"config\": {\"view\": {\"continuousWidth\": 400, \"continuousHeight\": 300}}, \"data\": {\"name\": \"data-8bd57068f72a61d671d5256dc38453cc\"}, \"mark\": \"circle\", \"encoding\": {\"color\": {\"type\": \"nominal\", \"field\": \"gene\"}, \"x\": {\"type\": \"quantitative\", \"field\": \"0\"}, \"y\": {\"type\": \"quantitative\", \"field\": \"1\"}}, \"height\": 400, \"width\": 400, \"$schema\": \"https://vega.github.io/schema/vega-lite/v4.8.1.json\", \"datasets\": {\"data-8bd57068f72a61d671d5256dc38453cc\": [{\"gene\": \"cytoplasmic foci\", \"0\": 0.2704477930548921, \"1\": 1.02605692623035, \"2\": -0.0031481890047565303}, {\"gene\": \"diffuse\", \"0\": -1.787475098060639, \"1\": -2.2567631439388944, \"2\": 1.1083533602075404}, {\"gene\": \"nuclear foci\", \"0\": -3.054920120247365, \"1\": 5.503795932348962, \"2\": -0.8558623549758146}, {\"gene\": \"nuclear membrane\", \"0\": -2.195855315017206, \"1\": -0.5135691179829209, \"2\": 0.9100718808259386}, {\"gene\": \"nucleolus\", \"0\": -3.2878610640089354, \"1\": 1.8274693116620015, \"2\": 1.1950479765024578}, {\"gene\": \"projection\", \"0\": 1.430847146149608, \"1\": -0.3929409803234482, \"2\": 1.9473268349390935}, {\"gene\": \"proximal cytoplasmic\", \"0\": 1.6697102828570713, \"1\": 1.6488153056858414, \"2\": 6.932363760090269}, {\"gene\": \"cytoplasmic foci\", \"0\": 2.3282421401034665, \"1\": 0.36237750113662115, \"2\": -0.30957991507152655}, {\"gene\": \"diffuse\", \"0\": -0.559136563296706, \"1\": -3.926132571761666, \"2\": -0.08594376990877799}, {\"gene\": \"nuclear foci\", \"0\": -2.420627346949818, \"1\": 2.469985198089214, \"2\": -0.5353348036117548}, {\"gene\": \"nuclear membrane\", \"0\": -1.8670319670327766, \"1\": -1.1301051363680628, \"2\": 0.5153533246419132}, {\"gene\": \"nucleolus\", \"0\": -3.8149292605789573, \"1\": 1.1145327731167418, \"2\": -0.30194745104124565}, {\"gene\": \"projection\", \"0\": 8.71636779170743, \"1\": 0.10316063719936219, \"2\": -0.8618925108313643}, {\"gene\": \"proximal cytoplasmic\", \"0\": -0.3833858205230771, \"1\": -0.6623832309208855, \"2\": 2.6379256383064806}, {\"gene\": \"cytoplasmic foci\", \"0\": 1.1735720812657355, \"1\": -0.061328349905606795, \"2\": -1.1302542396110509}, {\"gene\": \"diffuse\", \"0\": -0.8014322807599402, \"1\": -3.7290000103132175, \"2\": -0.8718242741300748}, {\"gene\": \"nuclear foci\", \"0\": -2.432384657422943, \"1\": 1.3400205219571455, \"2\": -1.117290616329062}, {\"gene\": \"nuclear membrane\", \"0\": -2.0275887640469614, \"1\": -1.9368437428782557, \"2\": -0.05523735772126497}, {\"gene\": \"nucleolus\", \"0\": -3.235548404700938, \"1\": 0.6508654702734421, \"2\": -0.5803171299710679}, {\"gene\": \"projection\", \"0\": 10.04607243279672, \"1\": 1.3457264025078604, \"2\": 0.06099064453479343}, {\"gene\": \"proximal cytoplasmic\", \"0\": -1.6675868346561922, \"1\": 0.7740288035854002, \"2\": 0.3626090462013759}, {\"gene\": \"cytoplasmic foci\", \"0\": 0.8779683346018905, \"1\": 0.9228845379562736, \"2\": -1.1775340294157322}, {\"gene\": \"diffuse\", \"0\": -1.0832236871517587, \"1\": -3.7585355823551447, \"2\": -0.311522755269116}, {\"gene\": \"nuclear foci\", \"0\": -2.156758427596064, \"1\": 3.8728330482490523, \"2\": -1.953385102421998}, {\"gene\": \"nuclear membrane\", \"0\": -1.3575572176421908, \"1\": -1.3025985165145766, \"2\": 0.01893072685664052}, {\"gene\": \"nucleolus\", \"0\": -3.65332904327496, \"1\": 1.4290629114782205, \"2\": -0.779392394289475}, {\"gene\": \"projection\", \"0\": 5.530958606966489, \"1\": -0.39383398153386145, \"2\": -0.8468536644299208}, {\"gene\": \"proximal cytoplasmic\", \"0\": -0.8033651101009212, \"1\": 2.002867149110676, \"2\": 2.0192540510819277}, {\"gene\": \"cytoplasmic foci\", \"0\": 3.0495631514581762, \"1\": 0.47418581503178764, \"2\": -3.184266635087534}, {\"gene\": \"diffuse\", \"0\": -0.0183319273205621, \"1\": -4.610086755740162, \"2\": -1.5633365615582837}, {\"gene\": \"nuclear foci\", \"0\": -1.8543264674305484, \"1\": 1.1900838043712008, \"2\": -1.4189906530294492}, {\"gene\": \"nuclear membrane\", \"0\": -1.4779367669289742, \"1\": -2.85219592198363, \"2\": 0.02880666204056553}, {\"gene\": \"nucleolus\", \"0\": -2.48012208748351, \"1\": 0.4649363008945891, \"2\": -0.9614324461754147}, {\"gene\": \"projection\", \"0\": 10.170124441084186, \"1\": 1.1711391975712881, \"2\": 0.01986084718418701}, {\"gene\": \"proximal cytoplasmic\", \"0\": -0.8431599698137274, \"1\": -2.1685105059357026, \"2\": 1.1484521004714976}]}}, {\"mode\": \"vega-lite\"});\n",
       "</script>"
      ],
      "text/plain": [
       "alt.Chart(...)"
      ]
     },
     "execution_count": 4,
     "metadata": {},
     "output_type": "execute_result"
    }
   ],
   "source": [
    "data = bento.tl.pca(data, n_components=3)\n",
    "bento.pl.pca(data, c1=0, c2=1)"
   ]
  },
  {
   "cell_type": "code",
   "execution_count": 5,
   "metadata": {},
   "outputs": [
    {
     "data": {
      "text/html": [
       "\n",
       "<div id=\"altair-viz-574d31be6cd34b058f2c5ad0ab5ff2fa\"></div>\n",
       "<script type=\"text/javascript\">\n",
       "  (function(spec, embedOpt){\n",
       "    let outputDiv = document.currentScript.previousElementSibling;\n",
       "    if (outputDiv.id !== \"altair-viz-574d31be6cd34b058f2c5ad0ab5ff2fa\") {\n",
       "      outputDiv = document.getElementById(\"altair-viz-574d31be6cd34b058f2c5ad0ab5ff2fa\");\n",
       "    }\n",
       "    const paths = {\n",
       "      \"vega\": \"https://cdn.jsdelivr.net/npm//vega@5?noext\",\n",
       "      \"vega-lib\": \"https://cdn.jsdelivr.net/npm//vega-lib?noext\",\n",
       "      \"vega-lite\": \"https://cdn.jsdelivr.net/npm//vega-lite@4.8.1?noext\",\n",
       "      \"vega-embed\": \"https://cdn.jsdelivr.net/npm//vega-embed@6?noext\",\n",
       "    };\n",
       "\n",
       "    function loadScript(lib) {\n",
       "      return new Promise(function(resolve, reject) {\n",
       "        var s = document.createElement('script');\n",
       "        s.src = paths[lib];\n",
       "        s.async = true;\n",
       "        s.onload = () => resolve(paths[lib]);\n",
       "        s.onerror = () => reject(`Error loading script: ${paths[lib]}`);\n",
       "        document.getElementsByTagName(\"head\")[0].appendChild(s);\n",
       "      });\n",
       "    }\n",
       "\n",
       "    function showError(err) {\n",
       "      outputDiv.innerHTML = `<div class=\"error\" style=\"color:red;\">${err}</div>`;\n",
       "      throw err;\n",
       "    }\n",
       "\n",
       "    function displayChart(vegaEmbed) {\n",
       "      vegaEmbed(outputDiv, spec, embedOpt)\n",
       "        .catch(err => showError(`Javascript Error: ${err.message}<br>This usually means there's a typo in your chart specification. See the javascript console for the full traceback.`));\n",
       "    }\n",
       "\n",
       "    if(typeof define === \"function\" && define.amd) {\n",
       "      requirejs.config({paths});\n",
       "      require([\"vega-embed\"], displayChart, err => showError(`Error loading script: ${err.message}`));\n",
       "    } else if (typeof vegaEmbed === \"function\") {\n",
       "      displayChart(vegaEmbed);\n",
       "    } else {\n",
       "      loadScript(\"vega\")\n",
       "        .then(() => loadScript(\"vega-lite\"))\n",
       "        .then(() => loadScript(\"vega-embed\"))\n",
       "        .catch(showError)\n",
       "        .then(() => displayChart(vegaEmbed));\n",
       "    }\n",
       "  })({\"config\": {\"view\": {\"continuousWidth\": 400, \"continuousHeight\": 300}}, \"data\": {\"name\": \"data-274c9bc27f4f49a175a24f4ecbd99c9a\"}, \"mark\": \"circle\", \"encoding\": {\"color\": {\"type\": \"nominal\", \"field\": \"gene\"}, \"x\": {\"type\": \"quantitative\", \"field\": \"0\"}, \"y\": {\"type\": \"quantitative\", \"field\": \"1\"}}, \"height\": 400, \"width\": 400, \"$schema\": \"https://vega.github.io/schema/vega-lite/v4.8.1.json\", \"datasets\": {\"data-274c9bc27f4f49a175a24f4ecbd99c9a\": [{\"gene\": \"cytoplasmic foci\", \"0\": -4.700990200042725, \"1\": 7.892518997192383}, {\"gene\": \"diffuse\", \"0\": -7.023540496826172, \"1\": 11.767247200012207}, {\"gene\": \"nuclear foci\", \"0\": -0.8802337646484375, \"1\": 7.909827709197998}, {\"gene\": \"nuclear membrane\", \"0\": -6.572150230407715, \"1\": 11.766376495361328}, {\"gene\": \"nucleolus\", \"0\": -1.6358827352523804, \"1\": 8.994769096374512}, {\"gene\": \"projection\", \"0\": -5.0829596519470215, \"1\": 8.121540069580078}, {\"gene\": \"proximal cytoplasmic\", \"0\": -5.4235615730285645, \"1\": 11.399992942810059}, {\"gene\": \"cytoplasmic foci\", \"0\": -4.835093021392822, \"1\": 7.233155250549316}, {\"gene\": \"diffuse\", \"0\": -8.465594291687012, \"1\": 12.068970680236816}, {\"gene\": \"nuclear foci\", \"0\": -1.1477638483047485, \"1\": 8.091547012329102}, {\"gene\": \"nuclear membrane\", \"0\": -6.281824588775635, \"1\": 12.187834739685059}, {\"gene\": \"nucleolus\", \"0\": -1.3829083442687988, \"1\": 8.846894264221191}, {\"gene\": \"projection\", \"0\": -5.487568378448486, \"1\": 5.499509811401367}, {\"gene\": \"proximal cytoplasmic\", \"0\": -5.843230724334717, \"1\": 11.823742866516113}, {\"gene\": \"cytoplasmic foci\", \"0\": -5.081272602081299, \"1\": 7.271785736083984}, {\"gene\": \"diffuse\", \"0\": -8.729168891906738, \"1\": 11.969459533691406}, {\"gene\": \"nuclear foci\", \"0\": -1.1960116624832153, \"1\": 8.44211196899414}, {\"gene\": \"nuclear membrane\", \"0\": -6.7478179931640625, \"1\": 12.565275192260742}, {\"gene\": \"nucleolus\", \"0\": -1.1323649883270264, \"1\": 8.89974594116211}, {\"gene\": \"projection\", \"0\": -5.860490798950195, \"1\": 5.339237689971924}, {\"gene\": \"proximal cytoplasmic\", \"0\": -3.6623871326446533, \"1\": 8.239471435546875}, {\"gene\": \"cytoplasmic foci\", \"0\": -4.642280578613281, \"1\": 7.6093525886535645}, {\"gene\": \"diffuse\", \"0\": -8.618683815002441, \"1\": 11.621965408325195}, {\"gene\": \"nuclear foci\", \"0\": -0.7149124145507812, \"1\": 8.12811279296875}, {\"gene\": \"nuclear membrane\", \"0\": -6.487152099609375, \"1\": 12.39291000366211}, {\"gene\": \"nucleolus\", \"0\": -1.4286564588546753, \"1\": 9.319986343383789}, {\"gene\": \"projection\", \"0\": -5.429216384887695, \"1\": 5.969690322875977}, {\"gene\": \"proximal cytoplasmic\", \"0\": -4.06728458404541, \"1\": 8.18574333190918}, {\"gene\": \"cytoplasmic foci\", \"0\": -5.26351261138916, \"1\": 6.5756096839904785}, {\"gene\": \"diffuse\", \"0\": -8.902482032775879, \"1\": 11.669519424438477}, {\"gene\": \"nuclear foci\", \"0\": -0.7100082039833069, \"1\": 9.022298812866211}, {\"gene\": \"nuclear membrane\", \"0\": -8.567493438720703, \"1\": 11.245658874511719}, {\"gene\": \"nucleolus\", \"0\": -0.9049504399299622, \"1\": 9.276529312133789}, {\"gene\": \"projection\", \"0\": -5.7674560546875, \"1\": 5.47652006149292}, {\"gene\": \"proximal cytoplasmic\", \"0\": -8.289631843566895, \"1\": 11.109272956848145}]}}, {\"mode\": \"vega-lite\"});\n",
       "</script>"
      ],
      "text/plain": [
       "alt.Chart(...)"
      ]
     },
     "execution_count": 5,
     "metadata": {},
     "output_type": "execute_result"
    }
   ],
   "source": [
    "data = bento.tl.umap(data, n_neighbors=4)\n",
    "bento.pl.umap(data)"
   ]
  },
  {
   "cell_type": "code",
   "execution_count": null,
   "metadata": {},
   "outputs": [],
   "source": []
  }
 ],
 "metadata": {
  "kernelspec": {
   "display_name": "Python [conda env:bento]",
   "language": "python",
   "name": "conda-env-bento-py"
  },
  "language_info": {
   "codemirror_mode": {
    "name": "ipython",
    "version": 3
   },
   "file_extension": ".py",
   "mimetype": "text/x-python",
   "name": "python",
   "nbconvert_exporter": "python",
   "pygments_lexer": "ipython3",
   "version": "3.8.2"
  }
 },
 "nbformat": 4,
 "nbformat_minor": 4
}
